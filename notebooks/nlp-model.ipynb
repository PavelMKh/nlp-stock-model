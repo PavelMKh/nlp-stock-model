{
 "cells": [
  {
   "cell_type": "markdown",
   "metadata": {},
   "source": [
    "# 1. BoW"
   ]
  },
  {
   "cell_type": "code",
   "execution_count": 14,
   "metadata": {
    "execution": {
     "iopub.execute_input": "2024-11-25T18:15:44.794617Z",
     "iopub.status.busy": "2024-11-25T18:15:44.793963Z",
     "iopub.status.idle": "2024-11-25T18:15:46.042454Z",
     "shell.execute_reply": "2024-11-25T18:15:46.041558Z",
     "shell.execute_reply.started": "2024-11-25T18:15:44.794581Z"
    },
    "trusted": true
   },
   "outputs": [],
   "source": [
    "import pandas as pd\n",
    "import numpy as np\n",
    "from sklearn.feature_extraction.text import CountVectorizer\n",
    "from sklearn.model_selection import train_test_split\n",
    "from sklearn.linear_model import LogisticRegression\n",
    "from sklearn.metrics import accuracy_score\n",
    "from sklearn.metrics import classification_report\n",
    "\n",
    "df = pd.read_csv('/kaggle/input/mda-reports/MDA_dataset_10K.csv', index_col=0)\n",
    "df.dropna(inplace=True)\n",
    "\n",
    "lr = LogisticRegression(max_iter=1000, n_jobs=-1)"
   ]
  },
  {
   "cell_type": "markdown",
   "metadata": {},
   "source": [
    "### 1.1. Unigrams"
   ]
  },
  {
   "cell_type": "code",
   "execution_count": null,
   "metadata": {
    "execution": {
     "iopub.execute_input": "2024-11-25T18:15:46.044987Z",
     "iopub.status.busy": "2024-11-25T18:15:46.044274Z",
     "iopub.status.idle": "2024-11-25T18:15:46.753045Z",
     "shell.execute_reply": "2024-11-25T18:15:46.752150Z",
     "shell.execute_reply.started": "2024-11-25T18:15:46.044941Z"
    },
    "trusted": true
   },
   "outputs": [],
   "source": [
    "cv = CountVectorizer(stop_words='english', min_df=5)\n",
    "\n",
    "X = df['MDA'].str[22500:24500]\n",
    "y = df['target_3']\n",
    "mask = X.str.len() > 0\n",
    "X = X[mask]\n",
    "y = y[mask]\n",
    "\n",
    "X_train, X_test, y_train, y_test = train_test_split(X, y, test_size=0.25, random_state=42)\n",
    "\n",
    "X_train_counts = cv.fit_transform(X_train)\n",
    "X_test_counts = cv.transform(X_test)\n",
    "\n",
    "lr.fit(X_train_counts, y_train)\n",
    "\n",
    "y_train_pred = lr.predict(X_train_counts)\n",
    "y_test_pred = lr.predict(X_test_counts)\n",
    "\n",
    "print(\"Accuracy (train):\")\n",
    "print(classification_report(y_train, y_train_pred))\n",
    "print(\"Accuracy (test):\")\n",
    "print(classification_report(y_test, y_test_pred))"
   ]
  },
  {
   "cell_type": "markdown",
   "metadata": {},
   "source": [
    "### 1.2. Bigrams"
   ]
  },
  {
   "cell_type": "code",
   "execution_count": 16,
   "metadata": {
    "execution": {
     "iopub.execute_input": "2024-11-25T18:15:46.755390Z",
     "iopub.status.busy": "2024-11-25T18:15:46.754729Z",
     "iopub.status.idle": "2024-11-25T18:15:47.243428Z",
     "shell.execute_reply": "2024-11-25T18:15:47.242598Z",
     "shell.execute_reply.started": "2024-11-25T18:15:46.755348Z"
    },
    "trusted": true
   },
   "outputs": [
    {
     "name": "stdout",
     "output_type": "stream",
     "text": [
      "Accuracy (train):\n",
      "              precision    recall  f1-score   support\n",
      "\n",
      "         0.0       0.99      1.00      1.00       337\n",
      "         1.0       1.00      0.99      1.00       351\n",
      "\n",
      "    accuracy                           1.00       688\n",
      "   macro avg       1.00      1.00      1.00       688\n",
      "weighted avg       1.00      1.00      1.00       688\n",
      "\n",
      "Accuracy (test):\n",
      "              precision    recall  f1-score   support\n",
      "\n",
      "         0.0       0.61      0.59      0.60       121\n",
      "         1.0       0.56      0.59      0.57       109\n",
      "\n",
      "    accuracy                           0.59       230\n",
      "   macro avg       0.59      0.59      0.59       230\n",
      "weighted avg       0.59      0.59      0.59       230\n",
      "\n"
     ]
    }
   ],
   "source": [
    "cv = CountVectorizer(stop_words='english', min_df=5, ngram_range=(2, 2))\n",
    "\n",
    "X = df['MDA'].str[45500:48500]\n",
    "y = df['target_3']\n",
    "mask = X.str.len() > 0\n",
    "X = X[mask]\n",
    "y = y[mask]\n",
    "\n",
    "X_train, X_test, y_train, y_test = train_test_split(X, y, test_size=0.25, random_state=42)\n",
    "\n",
    "X_train_counts = cv.fit_transform(X_train)\n",
    "X_test_counts = cv.transform(X_test)\n",
    "\n",
    "lr.fit(X_train_counts, y_train)\n",
    "\n",
    "y_train_pred = lr.predict(X_train_counts)\n",
    "y_test_pred = lr.predict(X_test_counts)\n",
    "\n",
    "print(\"Accuracy (train):\")\n",
    "print(classification_report(y_train, y_train_pred))\n",
    "print(\"Accuracy (test):\")\n",
    "print(classification_report(y_test, y_test_pred))"
   ]
  },
  {
   "cell_type": "markdown",
   "metadata": {},
   "source": [
    "### 1.3. Trigrams"
   ]
  },
  {
   "cell_type": "code",
   "execution_count": null,
   "metadata": {
    "execution": {
     "iopub.execute_input": "2024-11-25T18:15:47.410595Z",
     "iopub.status.busy": "2024-11-25T18:15:47.409895Z",
     "iopub.status.idle": "2024-11-25T18:15:47.854289Z",
     "shell.execute_reply": "2024-11-25T18:15:47.853350Z",
     "shell.execute_reply.started": "2024-11-25T18:15:47.410565Z"
    },
    "trusted": true
   },
   "outputs": [],
   "source": [
    "cv = CountVectorizer(stop_words='english', min_df=5, ngram_range=(3, 3))\n",
    "\n",
    "X = df['MDA'].str[56500:59500]\n",
    "y = df['target_3']\n",
    "mask = X.str.len() > 0\n",
    "X = X[mask]\n",
    "y = y[mask]\n",
    "\n",
    "X_train, X_test, y_train, y_test = train_test_split(X, y, test_size=0.25, random_state=42)\n",
    "\n",
    "X_train_counts = cv.fit_transform(X_train)\n",
    "X_test_counts = cv.transform(X_test)\n",
    "\n",
    "lr.fit(X_train_counts, y_train)\n",
    "\n",
    "y_train_pred = lr.predict(X_train_counts)\n",
    "y_test_pred = lr.predict(X_test_counts)\n",
    "\n",
    "print(\"Accuracy (train):\")\n",
    "print(classification_report(y_train, y_train_pred))\n",
    "print(\"Accuracy (test):\")\n",
    "print(classification_report(y_test, y_test_pred))"
   ]
  },
  {
   "cell_type": "markdown",
   "metadata": {},
   "source": [
    "# 2. TD-IDF"
   ]
  },
  {
   "cell_type": "code",
   "execution_count": 18,
   "metadata": {
    "execution": {
     "iopub.execute_input": "2024-11-25T18:15:49.627975Z",
     "iopub.status.busy": "2024-11-25T18:15:49.627192Z",
     "iopub.status.idle": "2024-11-25T18:15:50.853410Z",
     "shell.execute_reply": "2024-11-25T18:15:50.852565Z",
     "shell.execute_reply.started": "2024-11-25T18:15:49.627941Z"
    },
    "trusted": true
   },
   "outputs": [],
   "source": [
    "import pandas as pd\n",
    "import numpy as np\n",
    "from sklearn.feature_extraction.text import TfidfVectorizer\n",
    "from sklearn.model_selection import train_test_split\n",
    "from sklearn.linear_model import LogisticRegression\n",
    "from sklearn.metrics import accuracy_score\n",
    "from sklearn.metrics import classification_report\n",
    "\n",
    "df = pd.read_csv('/kaggle/input/mda-reports/MDA_dataset_10K.csv', index_col=0)\n",
    "df.dropna(inplace=True)"
   ]
  },
  {
   "cell_type": "markdown",
   "metadata": {},
   "source": [
    "### 2.1. Unigrams"
   ]
  },
  {
   "cell_type": "code",
   "execution_count": null,
   "metadata": {
    "execution": {
     "iopub.execute_input": "2024-11-25T18:15:52.278577Z",
     "iopub.status.busy": "2024-11-25T18:15:52.278226Z",
     "iopub.status.idle": "2024-11-25T18:15:52.771420Z",
     "shell.execute_reply": "2024-11-25T18:15:52.770567Z",
     "shell.execute_reply.started": "2024-11-25T18:15:52.278547Z"
    },
    "trusted": true
   },
   "outputs": [],
   "source": [
    "X = df['MDA'].str[500:3500]\n",
    "y = df['target_3']\n",
    "mask = X.str.len() > 0\n",
    "X = X[mask]\n",
    "y = y[mask]\n",
    "\n",
    "X_train, X_test, y_train, y_test = train_test_split(X, y, test_size=0.25, random_state=42)\n",
    "\n",
    "tfidf = TfidfVectorizer(stop_words='english', min_df=5, max_df=1.0, ngram_range=(1, 1))\n",
    "tfidf.fit(X_train)\n",
    "X_train = tfidf.transform(X_train)\n",
    "X_test = tfidf.transform(X_test)\n",
    "\n",
    "lr = LogisticRegression(max_iter=1000, penalty='l2')\n",
    "lr.fit(X_train, y_train)\n",
    "\n",
    "y_train_pred = lr.predict(X_train)\n",
    "y_test_pred = lr.predict(X_test)\n",
    "\n",
    "print(\"Accuracy (train):\")\n",
    "print(classification_report(y_train, y_train_pred))\n",
    "print(\"Accuracy (test):\")\n",
    "print(classification_report(y_test, y_test_pred))"
   ]
  },
  {
   "cell_type": "markdown",
   "metadata": {},
   "source": [
    "### 2.1. Bigramms"
   ]
  },
  {
   "cell_type": "code",
   "execution_count": null,
   "metadata": {
    "execution": {
     "iopub.execute_input": "2024-11-25T17:52:00.713115Z",
     "iopub.status.busy": "2024-11-25T17:52:00.712729Z",
     "iopub.status.idle": "2024-11-25T17:52:02.567556Z",
     "shell.execute_reply": "2024-11-25T17:52:02.566470Z",
     "shell.execute_reply.started": "2024-11-25T17:52:00.713082Z"
    },
    "trusted": true
   },
   "outputs": [],
   "source": [
    "X = df['MDA'].str[60500:66500]\n",
    "y = df['target_3']\n",
    "mask = X.str.len() > 0\n",
    "X = X[mask]\n",
    "y = y[mask]\n",
    "\n",
    "X_train, X_test, y_train, y_test = train_test_split(X, y, test_size=0.25, random_state=42)\n",
    "\n",
    "tfidf = TfidfVectorizer(stop_words='english', min_df=5, max_df=1.0, ngram_range=(1, 2))\n",
    "tfidf.fit(X_train)\n",
    "X_train = tfidf.transform(X_train)\n",
    "X_test = tfidf.transform(X_test)\n",
    "\n",
    "lr = LogisticRegression(max_iter=1000)\n",
    "lr.fit(X_train, y_train)\n",
    "\n",
    "y_train_pred = lr.predict(X_train)\n",
    "y_test_pred = lr.predict(X_test)\n",
    "\n",
    "print(\"Accuracy (train):\")\n",
    "print(classification_report(y_train, y_train_pred))\n",
    "print(\"Accuracy (test):\")\n",
    "print(classification_report(y_test, y_test_pred))"
   ]
  },
  {
   "cell_type": "markdown",
   "metadata": {},
   "source": [
    "### 2.3. Trigrams"
   ]
  },
  {
   "cell_type": "code",
   "execution_count": null,
   "metadata": {
    "execution": {
     "iopub.execute_input": "2024-11-25T17:52:05.773582Z",
     "iopub.status.busy": "2024-11-25T17:52:05.772958Z",
     "iopub.status.idle": "2024-11-25T17:52:07.546376Z",
     "shell.execute_reply": "2024-11-25T17:52:07.543074Z",
     "shell.execute_reply.started": "2024-11-25T17:52:05.773552Z"
    },
    "trusted": true
   },
   "outputs": [],
   "source": [
    "X = df['MDA'].str[500:4500]\n",
    "y = df['target_3']\n",
    "mask = X.str.len() > 0\n",
    "X = X[mask]\n",
    "y = y[mask]\n",
    "\n",
    "X_train, X_test, y_train, y_test = train_test_split(X, y, test_size=0.25, random_state=42)\n",
    "\n",
    "tfidf = TfidfVectorizer(stop_words='english', min_df=5, max_df=1.0, ngram_range=(1, 3))\n",
    "tfidf.fit(X_train)\n",
    "X_train = tfidf.transform(X_train)\n",
    "X_test = tfidf.transform(X_test)\n",
    "\n",
    "lr = LogisticRegression(max_iter=1000, penalty='l2', n_jobs=-1)\n",
    "lr.fit(X_train, y_train)\n",
    "\n",
    "y_train_pred = lr.predict(X_train)\n",
    "y_test_pred = lr.predict(X_test)\n",
    "\n",
    "print(\"Accuracy (train):\")\n",
    "print(classification_report(y_train, y_train_pred))\n",
    "print(\"Accuracy (test):\")\n",
    "print(classification_report(y_test, y_test_pred))"
   ]
  },
  {
   "cell_type": "markdown",
   "metadata": {},
   "source": [
    "# 3. DistilBERT"
   ]
  },
  {
   "cell_type": "code",
   "execution_count": null,
   "metadata": {
    "execution": {
     "iopub.execute_input": "2024-11-25T17:54:21.585907Z",
     "iopub.status.busy": "2024-11-25T17:54:21.585291Z",
     "iopub.status.idle": "2024-11-25T17:54:36.268984Z",
     "shell.execute_reply": "2024-11-25T17:54:36.267173Z",
     "shell.execute_reply.started": "2024-11-25T17:54:21.585869Z"
    },
    "trusted": true
   },
   "outputs": [],
   "source": [
    "import pandas as pd\n",
    "from transformers import DistilBertTokenizer, DistilBertModel\n",
    "import os\n",
    "import torch\n",
    "import numpy as np\n",
    "from sklearn.model_selection import train_test_split\n",
    "from sklearn.linear_model import LogisticRegression\n",
    "from sklearn.metrics import classification_report\n",
    "from tqdm.notebook import tqdm\n",
    "import warnings\n",
    "\n",
    "warnings.filterwarnings('ignore')\n",
    "\n",
    "device = torch.device(\"cuda\" if torch.cuda.is_available() else \"cpu\")\n",
    "\n",
    "df10q = pd.read_csv('/kaggle/input/mda-reports/MDA_dataset_10K.csv', index_col=0)\n",
    "df10q.dropna(inplace=True)\n",
    "\n",
    "tokenizer = DistilBertTokenizer.from_pretrained('distilbert-base-uncased')\n",
    "model = DistilBertModel.from_pretrained('distilbert-base-uncased')\n",
    "model = torch.nn.DataParallel(model).to(device)\n",
    "\n",
    "texts = df10q['MDA'].tolist()\n",
    "texts = [text[63448:64948] for text in texts]\n",
    "\n",
    "labels = df10q['target_3'].tolist()\n",
    "\n",
    "batch_size = 80\n",
    "embeddings = []\n",
    "all_labels = []\n",
    "\n",
    "for i in tqdm(range(0, len(texts), batch_size), desc=\"Processing batches\"):\n",
    "    batch_texts = texts[i:i + batch_size]\n",
    "    batch_labels = labels[i:i + batch_size]\n",
    "\n",
    "    tokens = tokenizer(batch_texts, return_tensors='pt', padding=True, truncation=True).to(device)\n",
    "\n",
    "    with torch.no_grad():\n",
    "        outputs = model(**tokens)\n",
    "\n",
    "    batch_embeddings = outputs.last_hidden_state.mean(dim=1).cpu().numpy()\n",
    "\n",
    "    embeddings.extend(batch_embeddings)\n",
    "    all_labels.extend(batch_labels)\n",
    "\n",
    "    del tokens, outputs\n",
    "    torch.cuda.empty_cache()\n",
    "\n",
    "X = np.array(embeddings)\n",
    "y = np.array(all_labels)\n",
    "\n",
    "X_train, X_test, y_train, y_test = train_test_split(X, y, test_size=0.25, random_state=42)\n",
    "\n",
    "lr_clf = LogisticRegression(max_iter=1000)\n",
    "lr_clf.fit(X_train, y_train)\n",
    "\n",
    "pred_labels = lr_clf.predict(X_test)\n",
    "y_train_pred = lr_clf.predict(X_train)\n",
    "\n",
    "print(\"Accuracy (train):\")\n",
    "print(classification_report(y_train, y_train_pred))\n",
    "print(\"Accuracy (test):\")\n",
    "print(classification_report(y_test, pred_labels))"
   ]
  },
  {
   "cell_type": "markdown",
   "metadata": {},
   "source": [
    "# 4. GPT-2"
   ]
  },
  {
   "cell_type": "code",
   "execution_count": null,
   "metadata": {
    "execution": {
     "iopub.execute_input": "2024-11-25T18:01:41.816856Z",
     "iopub.status.busy": "2024-11-25T18:01:41.816371Z",
     "iopub.status.idle": "2024-11-25T18:03:00.574283Z",
     "shell.execute_reply": "2024-11-25T18:03:00.572887Z",
     "shell.execute_reply.started": "2024-11-25T18:01:41.816829Z"
    },
    "trusted": true
   },
   "outputs": [],
   "source": [
    "import pandas as pd\n",
    "import numpy as np\n",
    "from sklearn.model_selection import train_test_split\n",
    "from sklearn.linear_model import LogisticRegression\n",
    "from sklearn.metrics import accuracy_score, classification_report\n",
    "from transformers import GPT2Tokenizer, GPT2Model\n",
    "import torch\n",
    "from tqdm.notebook import tqdm \n",
    "import warnings\n",
    "\n",
    "warnings.filterwarnings('ignore')\n",
    "\n",
    "\n",
    "device = torch.device(\"cuda\" if torch.cuda.is_available() else \"cpu\")\n",
    "\n",
    "df10q = pd.read_csv('/kaggle/input/mda-reports/MDA_dataset_10K.csv', index_col=0)\n",
    "df10q.dropna(inplace=True)  \n",
    "\n",
    "tokenizer = GPT2Tokenizer.from_pretrained('gpt2', clean_up_tokenization_spaces=True)\n",
    "model = GPT2Model.from_pretrained('gpt2')\n",
    "model = torch.nn.DataParallel(model, device_ids=[0, 1]).to(device)\n",
    "\n",
    "tokenizer.pad_token = tokenizer.eos_token\n",
    "\n",
    "texts = df10q['MDA'].tolist()\n",
    "texts = [text[54570:57570] for text in texts] \n",
    "labels = df10q['target_10'].tolist()\n",
    "\n",
    "\n",
    "embeddings = []\n",
    "all_labels = []\n",
    "\n",
    "batch_size = 80\n",
    "for i in tqdm(range(0, len(texts), batch_size), desc=\"Processing batches\"):\n",
    "    batch_texts = texts[i:i + batch_size]\n",
    "    batch_labels = labels[i:i + batch_size]\n",
    "\n",
    "    tokens = tokenizer(batch_texts, return_tensors='pt', padding=True, truncation=True).to(device)\n",
    "\n",
    "    with torch.no_grad():\n",
    "        outputs = model(**tokens)\n",
    "\n",
    "    batch_embeddings = outputs.last_hidden_state.mean(dim=1).cpu().numpy()\n",
    "\n",
    "    embeddings.extend(batch_embeddings)\n",
    "    all_labels.extend(batch_labels)\n",
    "\n",
    "    del tokens, outputs\n",
    "    torch.cuda.empty_cache()\n",
    "\n",
    "X = np.array(embeddings)\n",
    "y = np.array(all_labels)\n",
    "\n",
    "X_train, X_test, y_train, y_test = train_test_split(X, labels, test_size=0.25, random_state=42)\n",
    "logistic_model = LogisticRegression(max_iter=10000, penalty='l2', n_jobs=-1)  \n",
    "logistic_model.fit(X_train, y_train)\n",
    "\n",
    "y_test_pred = logistic_model.predict(X_test)\n",
    "y_train_pred = logistic_model.predict(X_train)\n",
    "\n",
    "print(\"Accuracy (train):\")\n",
    "print(classification_report(y_train, y_train_pred))\n",
    "print(\"Accuracy (test):\")\n",
    "print(classification_report(y_test, y_test_pred))"
   ]
  },
  {
   "cell_type": "markdown",
   "metadata": {},
   "source": [
    "# 4. Finbert"
   ]
  },
  {
   "cell_type": "code",
   "execution_count": null,
   "metadata": {
    "execution": {
     "iopub.execute_input": "2024-11-26T08:25:00.440576Z",
     "iopub.status.busy": "2024-11-26T08:25:00.440272Z",
     "iopub.status.idle": "2024-11-26T08:25:39.045019Z",
     "shell.execute_reply": "2024-11-26T08:25:39.040917Z",
     "shell.execute_reply.started": "2024-11-26T08:25:00.440548Z"
    },
    "trusted": true
   },
   "outputs": [],
   "source": [
    "import pandas as pd\n",
    "from transformers import BertTokenizer, BertModel\n",
    "import os\n",
    "import torch\n",
    "import numpy as np\n",
    "from sklearn.model_selection import train_test_split\n",
    "from sklearn.linear_model import LogisticRegression\n",
    "from sklearn.metrics import classification_report\n",
    "from tqdm.notebook import tqdm\n",
    "from sklearn.svm import SVC\n",
    "import warnings\n",
    "\n",
    "warnings.filterwarnings('ignore')\n",
    "\n",
    "device = torch.device(\"cuda\" if torch.cuda.is_available() else \"cpu\")\n",
    "\n",
    "df10q = pd.read_csv('/kaggle/input/mda-reports/MDA_dataset_10K.csv', index_col=0)\n",
    "df10q.dropna(inplace=True)\n",
    "\n",
    "tokenizer = BertTokenizer.from_pretrained('yiyanghkust/finbert-tone')\n",
    "model = BertModel.from_pretrained('yiyanghkust/finbert-tone')\n",
    "model = torch.nn.DataParallel(model).to(device)\n",
    "\n",
    "texts = df10q['MDA'].tolist()\n",
    "texts = [text[64906:66406] for text in texts]\n",
    "\n",
    "labels = df10q['target_3'].tolist()\n",
    "\n",
    "batch_size = 80\n",
    "embeddings = []\n",
    "all_labels = []\n",
    "\n",
    "for i in tqdm(range(0, len(texts), batch_size), desc=\"Processing batches\"):\n",
    "    batch_texts = texts[i:i + batch_size]\n",
    "    batch_labels = labels[i:i + batch_size]\n",
    "\n",
    "    tokens = tokenizer(batch_texts, return_tensors='pt', padding=True, truncation=True, max_length=512).to(device)\n",
    "\n",
    "    with torch.no_grad():\n",
    "        outputs = model(**tokens)\n",
    "\n",
    "    batch_embeddings = outputs.last_hidden_state.mean(dim=1).cpu().numpy()\n",
    "\n",
    "    embeddings.extend(batch_embeddings)\n",
    "    all_labels.extend(batch_labels)\n",
    "\n",
    "    del tokens, outputs\n",
    "    torch.cuda.empty_cache()\n",
    "\n",
    "X = np.array(embeddings)\n",
    "y = np.array(all_labels)\n",
    "\n",
    "X_train, X_test, y_train, y_test = train_test_split(X, y, test_size=0.25, random_state=42)\n",
    "\n",
    "svc=SVC() \n",
    "svc.fit(X_train, y_train)\n",
    "y_test_pred=svc.predict(X_test)\n",
    "y_train_pred=svc.predict(X_train)\n",
    "\n",
    "print(\"Accuracy (train):\")\n",
    "print(classification_report(y_train, y_train_pred))\n",
    "print(\"Accuracy (test):\")\n",
    "print(classification_report(y_test, y_test_pred))"
   ]
  }
 ],
 "metadata": {
  "kaggle": {
   "accelerator": "nvidiaTeslaT4",
   "dataSources": [
    {
     "datasetId": 5974060,
     "sourceId": 9797304,
     "sourceType": "datasetVersion"
    }
   ],
   "dockerImageVersionId": 30787,
   "isGpuEnabled": true,
   "isInternetEnabled": true,
   "language": "python",
   "sourceType": "notebook"
  },
  "kernelspec": {
   "display_name": "Python 3",
   "language": "python",
   "name": "python3"
  },
  "language_info": {
   "codemirror_mode": {
    "name": "ipython",
    "version": 3
   },
   "file_extension": ".py",
   "mimetype": "text/x-python",
   "name": "python",
   "nbconvert_exporter": "python",
   "pygments_lexer": "ipython3",
   "version": "3.10.14"
  }
 },
 "nbformat": 4,
 "nbformat_minor": 4
}

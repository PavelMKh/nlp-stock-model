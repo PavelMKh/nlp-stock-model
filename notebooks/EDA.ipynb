{
 "cells": [
  {
   "cell_type": "markdown",
   "metadata": {},
   "source": [
    "# EDA of the relationship between stock price direction and the content of 10K / 10Q reports"
   ]
  },
  {
   "cell_type": "markdown",
   "metadata": {},
   "source": [
    "## 1. Problem and key areas of the analysis"
   ]
  },
  {
   "cell_type": "markdown",
   "metadata": {},
   "source": [
    "**Forms 10K and 10Q** are among the most important reporting forms for publicly traded companies in USA:\n",
    "\n",
    "* Form 10-K is an annual comprehensive report filed by companies with the SEC, detailing their financial performance and business operations. It includes audited financial statements, management's discussion and analysis, risk factors, and other important disclosures.\n",
    "\n",
    "* Form 10-Q contains financial statements, management discussion and analysis, disclosures, and internal controls for the previous quarter. Companies must file their 10-Qs 40 or 45 days after the end of their quarters, depending on the size of their public float."
   ]
  },
  {
   "cell_type": "markdown",
   "metadata": {
    "vscode": {
     "languageId": "plaintext"
    }
   },
   "source": [
    "**Dataset.** Analysis was performed using the next data:\n",
    "* Loughran-McDonald SEC/EDGAR dataset\n",
    "* Cleaned files from the stage one parsing process\n",
    "* Time period: "
   ]
  },
  {
   "cell_type": "markdown",
   "metadata": {},
   "source": [
    "This **feature analysis** involves next areas: \n",
    "* Full content of 10K/10Q form \n",
    "* Section of Management discussion and analysis (MDA)\n",
    "* Risk Factors section (if applicable, principally for 10K form)"
   ]
  },
  {
   "cell_type": "markdown",
   "metadata": {},
   "source": [
    "The **target variable** is defined as follows:\n",
    "* Three gradations of stock price direction: up (1), down (-1), no change (0)\n",
    "* Boundaries for the \"no change\" category: no more than 1% up / down, no more than 2% up / down\n",
    "* To determine the value of the target variable, price changes were used on the following horizons: 3 days, 10 days, 30 days"
   ]
  },
  {
   "cell_type": "markdown",
   "metadata": {},
   "source": [
    "# 2. Feature generation and targets calculation "
   ]
  },
  {
   "cell_type": "code",
   "execution_count": null,
   "metadata": {},
   "outputs": [],
   "source": [
    "import pandas as pd\n",
    "import re\n",
    "\n",
    "df = pd.read_csv('data/final_data.csv', index_col=0)\n",
    "\n",
    "# remove all consecutive spaces and line breaks\n",
    "df['full_content'] = df['full_content'].replace(r'\\n', '', regex=True).replace(r'\\s+', ' ', regex=True)\n",
    "\n",
    "# calculate length of reports\n",
    "df['full_content_length'] = df['full_content'].apply(len)\n",
    "\n",
    "# function for extracting text items from report\n",
    "def extract_matching_text(text, pattern):\n",
    "    matches = re.findall(pattern, text, re.IGNORECASE)\n",
    "    if matches:\n",
    "        return ' '.join(matches)\n",
    "    return None "
   ]
  },
  {
   "cell_type": "code",
   "execution_count": null,
   "metadata": {},
   "outputs": [],
   "source": [
    "# Extracting Management discussion and analysis and length calculation\n",
    "\n",
    "pattern_mda = r'ITEM.{,20}MANAGEMENT.{,10}DISCUSSION.{,10}ANALYSIS.{,10}OF.{,10}FINANCIAL(.*?)ITEM.{0,3}\\d.{0,4}QUANTITATIVE'\n",
    "df['MDA'] = df['full_content'].apply(lambda x: extract_matching_text(x, pattern_mda))\n",
    "df['MDA_lenght'] = df['MDA'].apply(len)\n",
    "\n",
    "\n",
    "# Extracting Quantitative and Qualitative Disclosures About Market Risk and length calculation\n",
    "\n",
    "pattern_market = r'ITEM.{,20}QUANTITATIVE.{,10}AND.{,10}QUALITATIVE.{,10}DISCLOSURES.{,10}ABOUT(.*?)ITEM.{0,3}\\d.{0,4}CONTROLS'\n",
    "df['MARKET_RISK'] = df['full_content'].apply(lambda x: extract_matching_text(x, pattern_market))\n",
    "df['MARKET_RISK_length'] = df['MARKET_RISK'].apply(len)\n",
    "\n",
    "\n",
    "# Extracting Risk Factors and length calculation\n",
    "\n",
    "pattern_risks = r'ITEM.{,20}RISK.{,10}FACTORS.{,10}(.*?)ITEM.{0,3}\\d.{0,4}UNREGISTERED'\n",
    "df['RISK_FACTORS'] = df['full_content'].apply(lambda x: extract_matching_text(x, pattern_risks))\n",
    "df['RISK_FACTORS_length'] = df['RISK_FACTORS'].apply(len)"
   ]
  }
 ],
 "metadata": {
  "kernelspec": {
   "display_name": "venv",
   "language": "python",
   "name": "python3"
  },
  "language_info": {
   "name": "python",
   "version": "3.12.3"
  }
 },
 "nbformat": 4,
 "nbformat_minor": 2
}

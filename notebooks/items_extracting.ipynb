{
 "cells": [
  {
   "cell_type": "markdown",
   "metadata": {},
   "source": [
    "# 1. Get raw dataset from database"
   ]
  },
  {
   "cell_type": "code",
   "execution_count": 1,
   "metadata": {},
   "outputs": [],
   "source": [
    "import pandas as pd\n",
    "import psycopg2\n",
    "\n",
    "def get_connection_parameters():\n",
    "    print(\"Input the data for connection to database:\")\n",
    "    user = input(\"username >> \")\n",
    "    password = input(\"password >> \")\n",
    "    host = input(\"host >> \")\n",
    "    port = input(\"port >> \")\n",
    "    database = input(\"database >> \")\n",
    "    return user, password, host, port, database\n",
    "\n",
    "query_path = 'data_preprocessing/final_dataset_query.sql'"
   ]
  },
  {
   "cell_type": "code",
   "execution_count": null,
   "metadata": {},
   "outputs": [],
   "source": [
    "user, password, host, port, database = get_connection_parameters()"
   ]
  },
  {
   "cell_type": "code",
   "execution_count": 1,
   "metadata": {},
   "outputs": [],
   "source": [
    "def load_data_from_db(user, password, host, port, database, file_path):\n",
    "    with open(file_path, 'r') as file:\n",
    "        sql_query = file.read()\n",
    "\n",
    "    conn = psycopg2.connect(\n",
    "            user=user,\n",
    "            password=password,\n",
    "            host=host,\n",
    "            port=port,\n",
    "            database=database\n",
    "        )\n",
    "    \n",
    "    try:\n",
    "        df = pd.read_sql_query(sql_query, conn)\n",
    "    finally:\n",
    "        conn.close()\n",
    "    \n",
    "    return df"
   ]
  },
  {
   "cell_type": "code",
   "execution_count": null,
   "metadata": {},
   "outputs": [],
   "source": [
    "df = load_data_from_db(user, password, host, port, database, query_path)"
   ]
  },
  {
   "cell_type": "markdown",
   "metadata": {},
   "source": [
    "# 2. Preprocessing of data"
   ]
  },
  {
   "cell_type": "code",
   "execution_count": null,
   "metadata": {},
   "outputs": [],
   "source": [
    "# remove all consecutive spaces and line breaks\n",
    "df['full_content'] = df['full_content'].replace(r'\\n', '', regex=True).replace(r'\\s+', ' ', regex=True).str.lower()"
   ]
  },
  {
   "cell_type": "markdown",
   "metadata": {},
   "source": [
    "# 3. Extracting features (items)"
   ]
  },
  {
   "cell_type": "markdown",
   "metadata": {},
   "source": [
    "## 3.1. Extracting Management discussion and analysis"
   ]
  },
  {
   "cell_type": "code",
   "execution_count": null,
   "metadata": {},
   "outputs": [],
   "source": [
    "def extract_matching_text(text, pattern):\n",
    "    matches = re.findall(pattern, text, re.IGNORECASE)\n",
    "    if matches:\n",
    "        return ' '.join(matches)\n",
    "    return None \n",
    "\n",
    "pattern_mda = r'ITEM.{,20}MANAGEMENT.{,10}DISCUSSION.{,10}ANALYSIS.{,10}OF.{,10}FINANCIAL(.*?)ITEM.{0,3}\\d.{0,4}QUANTITATIVE'\n",
    "\n",
    "df['MDA'] = df['full_content'].apply(lambda x: extract_matching_text(x, pattern_mda))"
   ]
  },
  {
   "cell_type": "markdown",
   "metadata": {},
   "source": [
    "## 3.2. Extracting Quantitative and Qualitative Disclosures About Market Risk"
   ]
  },
  {
   "cell_type": "code",
   "execution_count": null,
   "metadata": {},
   "outputs": [],
   "source": [
    "pattern_market = r'ITEM.{,20}QUANTITATIVE.{,10}AND.{,10}QUALITATIVE.{,10}DISCLOSURES.{,10}ABOUT(.*?)ITEM.{0,3}\\d.{0,4}CONTROLS'\n",
    "\n",
    "df['MARKET_RISK'] = df['full_content'].apply(lambda x: extract_matching_text(x, pattern_market))"
   ]
  },
  {
   "cell_type": "markdown",
   "metadata": {},
   "source": [
    "# 3.3. Extracting Risk Factors"
   ]
  },
  {
   "cell_type": "markdown",
   "metadata": {},
   "source": [
    "pattern_risks = r'ITEM.{,20}RISK.{,10}FACTORS.{,10}(.*?)ITEM.{0,3}\\d.{0,4}UNREGISTERED'\n",
    "\n",
    "df['RISK_FACTORS'] = df['full_content'].apply(lambda x: extract_matching_text(x, pattern_risks))"
   ]
  }
 ],
 "metadata": {
  "kernelspec": {
   "display_name": "venv",
   "language": "python",
   "name": "python3"
  },
  "language_info": {
   "codemirror_mode": {
    "name": "ipython",
    "version": 3
   },
   "file_extension": ".py",
   "mimetype": "text/x-python",
   "name": "python",
   "nbconvert_exporter": "python",
   "pygments_lexer": "ipython3",
   "version": "3.12.3"
  }
 },
 "nbformat": 4,
 "nbformat_minor": 2
}
